{
 "cells": [
  {
   "cell_type": "markdown",
   "id": "8cb8d07a",
   "metadata": {},
   "source": [
    "# Importing necessary libraries:"
   ]
  },
  {
   "cell_type": "code",
   "execution_count": null,
   "id": "8b2582a1",
   "metadata": {},
   "outputs": [],
   "source": [
    "import pandas as pd\n",
    "import numpy as np\n",
    "import re\n",
    "import nltk\n",
    "from nltk.corpus import stopwords\n",
    "from nltk.tokenize import word_tokenize\n",
    "from nltk.stem import PorterStemmer, WordNetLemmatizer\n",
    "from wordcloud import WordCloud\n",
    "import matplotlib.pyplot as plt\n"
   ]
  },
  {
   "cell_type": "markdown",
   "id": "38814558",
   "metadata": {},
   "source": [
    "Loading the twitter data:"
   ]
  },
  {
   "cell_type": "code",
   "execution_count": null,
   "id": "a194b55b",
   "metadata": {},
   "outputs": [],
   "source": [
    "data = pd.read_csv('saf_data.csv')"
   ]
  },
  {
   "cell_type": "markdown",
   "id": "f36d5666",
   "metadata": {},
   "source": [
    "Cleaning the data:"
   ]
  },
  {
   "cell_type": "code",
   "execution_count": null,
   "id": "765471cc",
   "metadata": {},
   "outputs": [],
   "source": [
    "# Remove URLs\n",
    "df['comment'] = df['comment'].str.replace(r'http\\S+', '', regex=True).replace(r'www\\S+', '', regex=True)\n",
    "\n",
    "# Remove special characters\n",
    "df['comment'] = df['comment'].str.replace(r'[^\\w\\s]', '')\n",
    "\n",
    "# Convert text to lowercase\n",
    "df['comment'] = df['comment'].str.lower()\n",
    "\n",
    "# Tokenize the text data\n",
    "df['comment'] = df['comment'].apply(word_tokenize)\n",
    "\n",
    "# Remove stopwords\n",
    "stop_words = set(stopwords.words('english'))\n",
    "df['comment'] = df['comment'].apply(lambda x: [word for word in x if word not in stop_words])"
   ]
  },
  {
   "cell_type": "markdown",
   "id": "c93340f5",
   "metadata": {},
   "source": [
    "Sample of stemmed data:"
   ]
  },
  {
   "cell_type": "code",
   "execution_count": null,
   "id": "a8f52da9",
   "metadata": {},
   "outputs": [],
   "source": [
    "stemmer = PorterStemmer()\n",
    "df['stemmed_comment'] = df['comment'].apply(lambda x: [stemmer.stem(word) for word in x])\n",
    "\n",
    "# Display a sample of the stemmed data\n",
    "df['stemmed_comment'].head()"
   ]
  },
  {
   "cell_type": "markdown",
   "id": "01289137",
   "metadata": {},
   "source": [
    "Lemmatized data:"
   ]
  },
  {
   "cell_type": "code",
   "execution_count": null,
   "id": "369536d2",
   "metadata": {},
   "outputs": [],
   "source": [
    "lemmatizer = WordNetLemmatizer()\n",
    "df['lemmatized_comment'] = df['comment'].apply(lambda x: [lemmatizer.lemmatize(word) for word in x])\n",
    "\n",
    "# Display a sample of the lemmatized data\n",
    "df['lemmatized_comment'].head()\n",
    "    "
   ]
  },
  {
   "cell_type": "markdown",
   "id": "c2ca7383",
   "metadata": {},
   "source": [
    "Using word cloud to visualize data:"
   ]
  },
  {
   "cell_type": "code",
   "execution_count": null,
   "id": "49b5cb92",
   "metadata": {},
   "outputs": [],
   "source": [
    "all_words = ' '.join([word for word_list in data['lemmatized_comment'] for word in word_list])\n",
    "wordcloud = WordCloud(width=800, height=500, random_state=21, max_font_size=110).generate(all_words)\n",
    "plt.figure(figsize=(10, 7))\n",
    "plt.imshow(wordcloud, interpolation=\"bilinear\")\n",
    "plt.axis('off')\n",
    "plt.show()"
   ]
  }
 ],
 "metadata": {
  "kernelspec": {
   "display_name": "Python 3 (ipykernel)",
   "language": "python",
   "name": "python3"
  },
  "language_info": {
   "codemirror_mode": {
    "name": "ipython",
    "version": 3
   },
   "file_extension": ".py",
   "mimetype": "text/x-python",
   "name": "python",
   "nbconvert_exporter": "python",
   "pygments_lexer": "ipython3",
   "version": "3.10.8"
  }
 },
 "nbformat": 4,
 "nbformat_minor": 5
}
